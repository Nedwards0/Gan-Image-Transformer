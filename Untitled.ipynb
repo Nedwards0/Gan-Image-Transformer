{
 "cells": [
  {
   "cell_type": "code",
   "execution_count": 20,
   "id": "8f4ad2e4-5c52-40cd-a835-cfa77c858a5b",
   "metadata": {},
   "outputs": [],
   "source": [
    "import numpy as np\n",
    "import torch\n",
    "import torch as nn"
   ]
  },
  {
   "cell_type": "code",
   "execution_count": 55,
   "id": "11bee447-cb69-4ac8-962e-331d2c3a6075",
   "metadata": {},
   "outputs": [],
   "source": [
    "class Simple_ANN(torch.nn.Module):\n",
    "  def __init__(self):\n",
    "    super().__init__()\n",
    "    torch.nn.LSTM()\n",
    "    self.fc1=torch.nn.Linear(1,60)\n",
    "    self.fc2=torch.nn.Linear(60,50)\n",
    "    self.fc3=torch.nn.Linear(50,40)\n",
    "    self.fc4=torch.nn.Linear(40,2)\n",
    "    self.activ=torch.nn.ReLU()\n",
    "\n",
    "  def forward(self,data):\n",
    "    input_dat=torch.FloatTensor(data)\n",
    "    print(np.shape(input_dat))\n",
    "    input_data=self.activ(self.fc1(input_dat))\n",
    "    input_data=self.activ(self.fc2(input_data))\n",
    "    input_data=self.activ(self.fc3(input_data))\n",
    "    input_data=self.activ(self.fc4(input_data))\n",
    "    return input_data"
   ]
  },
  {
   "cell_type": "code",
   "execution_count": 56,
   "id": "23ff30ac-1bf7-4289-ad93-c6f80cd70857",
   "metadata": {},
   "outputs": [
    {
     "name": "stdout",
     "output_type": "stream",
     "text": [
      "torch.Size([1])\n"
     ]
    },
    {
     "data": {
      "text/plain": [
       "tensor([0., 0.], grad_fn=<ReluBackward0>)"
      ]
     },
     "execution_count": 56,
     "metadata": {},
     "output_type": "execute_result"
    }
   ],
   "source": [
    "ANN=Simple_ANN()\n",
    "ANN.forward([2])"
   ]
  },
  {
   "cell_type": "code",
   "execution_count": 47,
   "id": "85730681-0626-4e09-b39f-29f1c237dabd",
   "metadata": {},
   "outputs": [
    {
     "data": {
      "text/plain": [
       "Simple_ANN(\n",
       "  (fc1): Linear(in_features=1, out_features=60, bias=True)\n",
       "  (fc2): Linear(in_features=60, out_features=50, bias=True)\n",
       "  (fc3): Linear(in_features=50, out_features=40, bias=True)\n",
       "  (fc4): Linear(in_features=40, out_features=5, bias=True)\n",
       "  (activ): ReLU()\n",
       ")"
      ]
     },
     "execution_count": 47,
     "metadata": {},
     "output_type": "execute_result"
    }
   ],
   "source": [
    "ANN"
   ]
  },
  {
   "cell_type": "markdown",
   "id": "577ec64b-942f-447a-8386-47ce2357d0e6",
   "metadata": {},
   "source": [
    "How activation works"
   ]
  },
  {
   "cell_type": "code",
   "execution_count": 28,
   "id": "a5ac04ce-8893-4390-97db-830ae6bf83c4",
   "metadata": {},
   "outputs": [],
   "source": [
    "import matplotlib.pyplot as plt"
   ]
  },
  {
   "cell_type": "code",
   "execution_count": 38,
   "id": "66056d52-8557-4d4d-8b81-b3d5400fbce6",
   "metadata": {},
   "outputs": [
    {
     "data": {
      "text/plain": [
       "[<matplotlib.lines.Line2D at 0x24205a84bb0>]"
      ]
     },
     "execution_count": 38,
     "metadata": {},
     "output_type": "execute_result"
    },
    {
     "data": {
      "image/png": "[encoded data removed]",
      "text/plain": [
       "<Figure size 432x288 with 1 Axes>"
      ]
     },
     "metadata": {
      "needs_background": "light"
     },
     "output_type": "display_data"
    }
   ],
   "source": [
    "y=[]\n",
    "current=-100\n",
    "x=[]\n",
    "5    x.append(current)\n",
    "    current+=1\n",
    "    temp=(torch.nn.ReLU())\n",
    "    y.append(b(torch.tensor(numbers)))\n",
    "plt.plot(x,y)"
   ]
  },
  {
   "cell_type": "markdown",
   "id": "f3aa93ac-7b1b-4482-9067-01db4c4d6a1e",
   "metadata": {},
   "source": [
    "Creating Datasets"
   ]
  },
  {
   "cell_type": "code",
   "execution_count": 26,
   "id": "377cc8f6-2076-44ec-97af-756c4f4662a6",
   "metadata": {},
   "outputs": [],
   "source": [
    "from torch.utils.data import Dataset\n",
    "import pandas as pd\n"
   ]
  },
  {
   "cell_type": "code",
   "execution_count": 27,
   "id": "ad282222-3451-4a7c-97f1-fa31a2463172",
   "metadata": {},
   "outputs": [],
   "source": [
    "class Treeset(Dataset):\n",
    "    df = pd.DataFrame(columns = ['Input', 'Output'])\n",
    "    #My personal way of doing it\n",
    "    def __init__(self,root):\n",
    "        \n",
    "        self.df=Data\n",
    "    \n",
    "    def __len__(self):\n",
    "        len(Data)\n",
    "    def __getitem__(self,item):\n",
    "        return(Data.ilo)\n",
    "        Return(torch.tensor(X),torch.tensor(Y))"
   ]
  },
  {
   "cell_type": "markdown",
   "id": "1a452b1d-c20d-4790-ad96-2a352ad171b2",
   "metadata": {},
   "source": [
    "Converting into Dataloaders"
   ]
  },
  {
   "cell_type": "code",
   "execution_count": null,
   "id": "cdec62bc-fb12-4f01-a078-ff0aabefd538",
   "metadata": {},
   "outputs": [],
   "source": [
    "train_dataset,val_dataset=torch.utils.data.random_split(data,[int(train_set_size),int(val_set_size)])\n",
    "#Traih_set_size=70%\n",
    "#Val_set_size=70%"
   ]
  },
  {
   "cell_type": "code",
   "execution_count": null,
   "id": "e1e8925e-e4f1-4d00-be47-8cab73136072",
   "metadata": {},
   "outputs": [],
   "source": [
    "train_dataloader=DataLoader(train_dataset,batch_size=1,shuffle=True)\n",
    "val_dataloader=DataLoader(val_dataset,batch_size=1)\n",
    "#Making Dataloaders for training\n",
    "\n",
    "#Batch Size More steps before updating but requires uniform vectorization"
   ]
  },
  {
   "cell_type": "code",
   "execution_count": null,
   "id": "86a61185-d679-4ead-b544-2d4adf2e37fe",
   "metadata": {},
   "outputs": [],
   "source": []
  }
 ],
 "metadata": {
  "kernelspec": {
   "display_name": "Python 3",
   "language": "python",
   "name": "python3"
  },
  "language_info": {
   "codemirror_mode": {
    "name": "ipython",
    "version": 3
   },
   "file_extension": ".py",
   "mimetype": "text/x-python",
   "name": "python",
   "nbconvert_exporter": "python",
   "pygments_lexer": "ipython3",
   "version": "3.8.8"
  }
 },
 "nbformat": 4,
 "nbformat_minor": 5
}
